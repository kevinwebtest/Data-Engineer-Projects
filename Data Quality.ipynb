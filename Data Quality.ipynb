{
 "cells": [
  {
   "cell_type": "code",
   "execution_count": 1,
   "metadata": {},
   "outputs": [
    {
     "ename": "NameError",
     "evalue": "name 'pandas_profiling' is not defined",
     "output_type": "error",
     "traceback": [
      "\u001b[1;31m---------------------------------------------------------------------------\u001b[0m",
      "\u001b[1;31mNameError\u001b[0m                                 Traceback (most recent call last)",
      "\u001b[1;32m<ipython-input-1-16485e39ccaa>\u001b[0m in \u001b[0;36m<module>\u001b[1;34m\u001b[0m\n\u001b[0;32m      6\u001b[0m \u001b[1;33m\u001b[0m\u001b[0m\n\u001b[0;32m      7\u001b[0m \u001b[1;33m\u001b[0m\u001b[0m\n\u001b[1;32m----> 8\u001b[1;33m \u001b[0mpandas_profiling\u001b[0m\u001b[1;33m.\u001b[0m\u001b[0mProfileReport\u001b[0m\u001b[1;33m(\u001b[0m\u001b[0mretail_raw\u001b[0m\u001b[1;33m)\u001b[0m\u001b[1;33m\u001b[0m\u001b[1;33m\u001b[0m\u001b[0m\n\u001b[0m",
      "\u001b[1;31mNameError\u001b[0m: name 'pandas_profiling' is not defined"
     ]
    }
   ],
   "source": [
    "import pandas as pd\n",
    "import numpy as np\n",
    "import io\n",
    "import pandas_profiling\n",
    "retail_raw = pd.read_csv('https://storage.googleapis.com/dqlab-dataset/retail_raw_reduced_data_quality.csv')\n",
    "\n",
    "\n",
    "pandas_profiling.ProfileReport(retail_raw)"
   ]
  },
  {
   "cell_type": "code",
   "execution_count": 3,
   "metadata": {},
   "outputs": [
    {
     "name": "stdout",
     "output_type": "stream",
     "text": [
      "Check kolom yang memiliki missing data:\n",
      "order_id       False\n",
      "order_date     False\n",
      "customer_id    False\n",
      "city            True\n",
      "province        True\n",
      "product_id      True\n",
      "brand          False\n",
      "quantity        True\n",
      "item_price      True\n",
      "dtype: bool\n",
      "\n",
      "Filling the missing value (imputasi):\n",
      "0       10.0\n",
      "1        2.0\n",
      "2        8.0\n",
      "3        4.0\n",
      "4        2.0\n",
      "        ... \n",
      "4995     2.0\n",
      "4996     3.0\n",
      "4997     4.0\n",
      "4998     8.0\n",
      "4999     1.0\n",
      "Name: quantity, Length: 5000, dtype: float64\n",
      "\n",
      "Drop missing value:\n",
      "0       10.0\n",
      "1        2.0\n",
      "2        8.0\n",
      "3        4.0\n",
      "4        2.0\n",
      "        ... \n",
      "4995     2.0\n",
      "4996     3.0\n",
      "4997     4.0\n",
      "4998     8.0\n",
      "4999     1.0\n",
      "Name: quantity, Length: 4986, dtype: float64\n"
     ]
    }
   ],
   "source": [
    "import pandas as pd\n",
    "import numpy as np\n",
    "import io\n",
    "\n",
    "retail_raw = pd.read_csv('https://storage.googleapis.com/dqlab-dataset/retail_raw_reduced_data_quality.csv')\n",
    "\n",
    "# Check kolom yang memiliki missing data\n",
    "print('Check kolom yang memiliki missing data:')\n",
    "print(retail_raw.isnull().any())\n",
    "\n",
    "# Filling the missing value (imputasi)\n",
    "print('\\nFilling the missing value (imputasi):')\n",
    "print(retail_raw['quantity'].fillna(retail_raw.quantity.mean()))\n",
    "\n",
    "# Drop missing value\n",
    "print('\\nDrop missing value:')\n",
    "print(retail_raw['quantity'].dropna())"
   ]
  },
  {
   "cell_type": "code",
   "execution_count": 5,
   "metadata": {},
   "outputs": [
    {
     "name": "stdout",
     "output_type": "stream",
     "text": [
      "Shape awal:  (5000, 9)\n",
      "Shape akhir:  (4699, 9)\n"
     ]
    }
   ],
   "source": [
    "import pandas as pd\n",
    "import numpy as np\n",
    "import io\n",
    "# import pandas_profiling\n",
    "retail_raw = pd.read_csv('https://storage.googleapis.com/dqlab-dataset/retail_raw_reduced_data_quality.csv')\n",
    "\n",
    "# Q1, Q3, dan IQR\n",
    "Q1 = retail_raw['quantity'].quantile(0.25)\n",
    "Q3 = retail_raw['quantity'].quantile(0.75)\n",
    "IQR = Q3 - Q1\n",
    "\n",
    "# Check ukuran (baris dan kolom) sebelum data yang outliers dibuang\n",
    "print('Shape awal: ', retail_raw.shape)\n",
    "\n",
    "# Removing outliers\n",
    "retail_raw = retail_raw[~((retail_raw['quantity'] < (Q1-1.5*IQR)) | (retail_raw['quantity'] > (Q3 + 1.5*IQR)))]\n",
    "\n",
    "# Check ukuran (baris dan kolom) setelah data yang outliers dibuang\n",
    "print('Shape akhir: ', retail_raw.shape)"
   ]
  },
  {
   "cell_type": "code",
   "execution_count": 12,
   "metadata": {},
   "outputs": [
    {
     "name": "stdout",
     "output_type": "stream",
     "text": [
      "Shape awal:  (5000, 9)\n",
      "0       False\n",
      "1       False\n",
      "2       False\n",
      "3       False\n",
      "4       False\n",
      "        ...  \n",
      "4995    False\n",
      "4996    False\n",
      "4997    False\n",
      "4998    False\n",
      "4999    False\n",
      "Length: 5000, dtype: bool\n",
      "Shape akhir:  (4993, 9)\n"
     ]
    }
   ],
   "source": [
    "import pandas as pd\n",
    "import numpy as np\n",
    "import io\n",
    "# import pandas_profiling\n",
    "retail_raw = pd.read_csv('https://storage.googleapis.com/dqlab-dataset/retail_raw_reduced_data_quality.csv')\n",
    "\n",
    "# Check ukuran (baris dan kolom) sebelum data duplikasi dibuang\n",
    "print('Shape awal: ', retail_raw.shape)\n",
    "\n",
    "print(retail_raw.duplicated())\n",
    "\n",
    "# Buang data yang terduplikasi\n",
    "\n",
    "retail_raw.drop_duplicates(inplace=True)\n",
    "\n",
    "# Check ukuran (baris dan kolom) setelah data duplikasi dibuang\n",
    "print('Shape akhir: ', retail_raw.shape)\n"
   ]
  },
  {
   "cell_type": "code",
   "execution_count": 8,
   "metadata": {},
   "outputs": [
    {
     "name": "stdout",
     "output_type": "stream",
     "text": [
      "Lima data teratas:\n",
      "   InvoiceNo                          Description  Quantity     InvoiceDate  \\\n",
      "0     536365   WHITE HANGING HEART T-LIGHT HOLDER       6.0  12/01/10 08.26   \n",
      "1     536366                  WHITE METAL LANTERN       6.0  12/01/10 08.26   \n",
      "2     536367       CREAM CUPID HEARTS COAT HANGER       8.0  12/01/10 08.26   \n",
      "3     536368  KNITTED UNION FLAG HOT WATER BOTTLE       6.0  12/01/10 08.26   \n",
      "4     536369       RED WOOLLY HOTTIE WHITE HEART.       6.0  12/01/10 08.26   \n",
      "\n",
      "   UnitPrice  CustomerID      City  \n",
      "0      29000       17850  Surabaya  \n",
      "1      41000       17850  Surabaya  \n",
      "2      18000       17850  Surabaya  \n",
      "3      38000       17850   Jakarta  \n",
      "4      27000       17850     Medan  \n",
      "\n",
      "Kolom dengan missing value:\n",
      "InvoiceNo      False\n",
      "Description    False\n",
      "Quantity        True\n",
      "InvoiceDate    False\n",
      "UnitPrice      False\n",
      "CustomerID     False\n",
      "City           False\n",
      "dtype: bool\n",
      "Persentase missing value kolom Quantity: 4.0%\n"
     ]
    }
   ],
   "source": [
    "import pandas as pd\n",
    "import numpy as np\n",
    "import io\n",
    "# import pandas_profiling\n",
    "\n",
    "# Baca dataset uncleaned_raw.csv\n",
    "uncleaned_raw = pd.read_csv('https://storage.googleapis.com/dqlab-dataset/uncleaned_raw.csv')\n",
    "\n",
    "#inspeksi dataframe uncleaned_raw\n",
    "print('Lima data teratas:') \n",
    "print(uncleaned_raw.head())\n",
    "\n",
    "#Check kolom yang mengandung missing value\n",
    "print('\\nKolom dengan missing value:') \n",
    "print(uncleaned_raw.isnull().any())\n",
    "\n",
    "#Persentase missing value\n",
    "length_qty = len(uncleaned_raw['Quantity'])\n",
    "count_qty = uncleaned_raw['Quantity'].count()\n",
    "\n",
    "#mengurangi length dengan count\n",
    "number_of_missing_values_qty = length_qty - count_qty\n",
    "\n",
    "#mengubah ke bentuk float\n",
    "float_of_missing_values_qty = float(number_of_missing_values_qty / length_qty) \n",
    "\n",
    "#mengubah ke dalam bentuk persen\n",
    "pct_of_missing_values_qty = '{0:.1f}%'.format(float_of_missing_values_qty*100) \n",
    "\n",
    "#print hasil percent dari missing value\n",
    "print('Persentase missing value kolom Quantity:', pct_of_missing_values_qty)\n",
    "\n",
    "#Mengisi missing value tersebut dengan mean dari kolom tersebut\n",
    "uncleaned_raw['Quantity'] = uncleaned_raw['Quantity'].fillna(uncleaned_raw['Quantity'].mean())"
   ]
  },
  {
   "cell_type": "code",
   "execution_count": 2,
   "metadata": {},
   "outputs": [
    {
     "data": {
      "image/png": "[encoded data removed]",
      "text/plain": [
       "<Figure size 432x288 with 1 Axes>"
      ]
     },
     "metadata": {
      "needs_background": "light"
     },
     "output_type": "display_data"
    }
   ],
   "source": [
    "import pandas as pd\n",
    "import numpy as np\n",
    "import io\n",
    "# import pandas_profiling\n",
    "import matplotlib.pyplot as plt\n",
    "\n",
    "uncleaned_raw = pd.read_csv('https://storage.googleapis.com/dqlab-dataset/uncleaned_raw.csv')\n",
    "uncleaned_raw['Quantity'] = uncleaned_raw['Quantity'].fillna(uncleaned_raw['Quantity'].mean())\n",
    "\n",
    "#Mengetahui kolom yang memiliki outliers!\n",
    "uncleaned_raw.boxplot()\n",
    "plt.show()"
   ]
  },
  {
   "cell_type": "code",
   "execution_count": 21,
   "metadata": {},
   "outputs": [
    {
     "name": "stdout",
     "output_type": "stream",
     "text": [
      "0      False\n",
      "1      False\n",
      "2      False\n",
      "3      False\n",
      "4      False\n",
      "       ...  \n",
      "500     True\n",
      "501     True\n",
      "502     True\n",
      "503     True\n",
      "504     True\n",
      "Length: 505, dtype: bool\n",
      "(505, 7)\n",
      "(32, 7)\n"
     ]
    }
   ],
   "source": [
    "import pandas as pd\n",
    "import numpy as np\n",
    "import io\n",
    "# import pandas_profiling\n",
    "\n",
    "# Baca dataset uncleaned_raw.csv\n",
    "uncleaned_raw = pd.read_csv('https://storage.googleapis.com/dqlab-dataset/uncleaned_raw.csv')\n",
    "\n",
    "#Check IQR\n",
    "Q1 = uncleaned_raw['UnitPrice'].quantile(0.25)\n",
    "Q3 = uncleaned_raw['UnitPrice'].quantile(0.75)\n",
    "IQR = Q3 - Q1\n",
    "\n",
    "#removing outliers\n",
    "uncleaned_raw = uncleaned_raw[~((uncleaned_raw[['UnitPrice']] < (Q1 - 1.5*IQR)) | (uncleaned_raw[['UnitPrice']] > (Q3 + 1.5*IQR)))]\n",
    "\n",
    "#check for duplication\n",
    "print(uncleaned_raw.duplicated(subset=None))\n",
    "print(uncleaned_raw.shape)\n",
    "#remove duplication\n",
    "uncleaned_raw = uncleaned_raw.drop_duplicates()\n",
    "print(uncleaned_raw.shape)"
   ]
  },
  {
   "cell_type": "code",
   "execution_count": null,
   "metadata": {},
   "outputs": [],
   "source": []
  }
 ],
 "metadata": {
  "kernelspec": {
   "display_name": "Python 3",
   "language": "python",
   "name": "python3"
  },
  "language_info": {
   "codemirror_mode": {
    "name": "ipython",
    "version": 3
   },
   "file_extension": ".py",
   "mimetype": "text/x-python",
   "name": "python",
   "nbconvert_exporter": "python",
   "pygments_lexer": "ipython3",
   "version": "3.8.5"
  }
 },
 "nbformat": 4,
 "nbformat_minor": 4
}
