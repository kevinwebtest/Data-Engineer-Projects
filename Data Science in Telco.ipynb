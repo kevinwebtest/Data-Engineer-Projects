{
  "cells": [
    {
      "cell_type": "markdown",
      "metadata": {
        "id": "vs1TZkyrEQpr"
      },
      "source": [
        "# Data Science in Telco"
      ]
    },
    {
      "cell_type": "markdown",
      "metadata": {
        "id": "2fpJ51sdEQpw"
      },
      "source": [
        "Libraries Used In this analysis, several packages will be used to help us perform data analysis.\n",
        "\n",
        "1. Pandas\n",
        "\n",
        "Pandas (Python for Data Analysis) is a Python library that focuses on data analysis processes such as data manipulation, data preparation, and data cleaning.\n",
        "- read_csv() is used to read csv files\n",
        "- str.match() is used to match certain characters\n",
        "- drop() is used to remove\n",
        "- count() is used to count each variable\n",
        "- drop_duplicates() is used to delete duplicate rows . data\n",
        "- fillna() is used to fill with a certain value\n",
        "- quantile() is used to see quantile to a certain\n",
        "- mask() replaces the specified value if the condition meets\n",
        "- astype() changes the data type\n",
        "- value_counts() is used to count unique from column\n",
        "- sort_values() is used to sort values\n",
        "- isnull() is used to detect missing values\n",
        "- dropna() is used to remove missing values\n",
        "- replace() is used to replace the value\n",
        "\n",
        "2. Matplotlib\n",
        "\n",
        "Matplotlib is a Python library that focuses on data visualization such as plotting graphs. Matplotlib can be used in Python scripts, Python and IPython shells, web application servers, and several other graphical user interface (GUI) toolkits.\n",
        "\n",
        "figure() is used to create a new figure\n",
        "\n",
        "3. Seaborn\n",
        "Seaborn builds on Matplotlib and introduces additional plot types. It also makes your traditional Matplotlib plots look a little prettier.\n",
        "\n",
        "box_plot() is used to create a box plot"
      ]
    },
    {
      "cell_type": "code",
      "execution_count": null,
      "metadata": {
        "colab": {
          "base_uri": "https://localhost:8080/"
        },
        "id": "Hm1CHuudEQpy",
        "outputId": "29235bcc-783a-45b8-80e8-32c6e004e063"
      },
      "outputs": [
        {
          "output_type": "stream",
          "name": "stdout",
          "text": [
            "(7113, 22)\n",
            "   UpdatedAt   customerID  gender  SeniorCitizen Partner Dependents  tenure  \\\n",
            "0     202006  45759018157  Female              0     Yes         No     1.0   \n",
            "1     202006  45557574145    Male              0      No         No    34.0   \n",
            "2     202006  45366876421    Male              0      No         No     2.0   \n",
            "3     202006  45779536532    Male              0      No         No    45.0   \n",
            "4     202006  45923787906  Female              0      No         No     2.0   \n",
            "\n",
            "  PhoneService     MultipleLines InternetService OnlineSecurity OnlineBackup  \\\n",
            "0           No  No phone service             DSL             No          Yes   \n",
            "1          Yes                No             DSL            Yes           No   \n",
            "2          Yes                No             DSL            Yes          Yes   \n",
            "3           No  No phone service             DSL            Yes           No   \n",
            "4          Yes                No     Fiber optic             No           No   \n",
            "\n",
            "  DeviceProtection TechSupport StreamingTV StreamingMovies        Contract  \\\n",
            "0               No          No          No              No  Month-to-month   \n",
            "1              Yes          No          No              No        One year   \n",
            "2               No          No          No              No  Month-to-month   \n",
            "3              Yes         Yes          No              No        One year   \n",
            "4               No          No          No              No  Month-to-month   \n",
            "\n",
            "  PaperlessBilling              PaymentMethod  MonthlyCharges  TotalCharges  \\\n",
            "0              Yes           Electronic check           29.85         29.85   \n",
            "1               No               Mailed check           56.95       1889.50   \n",
            "2              Yes               Mailed check           53.85        108.15   \n",
            "3               No  Bank transfer (automatic)           42.30       1840.75   \n",
            "4              Yes           Electronic check           70.70        151.65   \n",
            "\n",
            "  Churn  \n",
            "0    No  \n",
            "1    No  \n",
            "2   Yes  \n",
            "3    No  \n",
            "4   Yes  \n",
            "['45759018157' '45557574145' '45366876421' ... '45655964195' '45899251814'\n",
            " '45427332508']\n",
            "<class 'pandas.core.frame.DataFrame'>\n",
            "RangeIndex: 7113 entries, 0 to 7112\n",
            "Data columns (total 22 columns):\n",
            " #   Column            Non-Null Count  Dtype  \n",
            "---  ------            --------------  -----  \n",
            " 0   UpdatedAt         7113 non-null   int64  \n",
            " 1   customerID        7113 non-null   object \n",
            " 2   gender            7113 non-null   object \n",
            " 3   SeniorCitizen     7113 non-null   int64  \n",
            " 4   Partner           7113 non-null   object \n",
            " 5   Dependents        7113 non-null   object \n",
            " 6   tenure            7014 non-null   float64\n",
            " 7   PhoneService      7113 non-null   object \n",
            " 8   MultipleLines     7113 non-null   object \n",
            " 9   InternetService   7113 non-null   object \n",
            " 10  OnlineSecurity    7113 non-null   object \n",
            " 11  OnlineBackup      7113 non-null   object \n",
            " 12  DeviceProtection  7113 non-null   object \n",
            " 13  TechSupport       7113 non-null   object \n",
            " 14  StreamingTV       7113 non-null   object \n",
            " 15  StreamingMovies   7113 non-null   object \n",
            " 16  Contract          7113 non-null   object \n",
            " 17  PaperlessBilling  7113 non-null   object \n",
            " 18  PaymentMethod     7113 non-null   object \n",
            " 19  MonthlyCharges    7087 non-null   float64\n",
            " 20  TotalCharges      7098 non-null   float64\n",
            " 21  Churn             7070 non-null   object \n",
            "dtypes: float64(3), int64(2), object(17)\n",
            "memory usage: 1.2+ MB\n",
            "None\n"
          ]
        }
      ],
      "source": [
        "import pandas as pd\n",
        "pd.options.display.max_columns = 50\n",
        "# Importing Data Source\n",
        "df_load = pd.read_csv('https://storage.googleapis.com/dqlab-dataset/dqlab_telco.csv')\n",
        "print(df_load.shape)\n",
        "print(df_load.head(5))\n",
        "print(df_load.customerID.unique())\n",
        "print(df_load.info())"
      ]
    },
    {
      "cell_type": "code",
      "source": [
        "df_load.columns"
      ],
      "metadata": {
        "colab": {
          "base_uri": "https://localhost:8080/"
        },
        "id": "d6GfMy9eVums",
        "outputId": "21b0a4a6-60b9-48c5-d52b-0985ff5bdc8d"
      },
      "execution_count": null,
      "outputs": [
        {
          "output_type": "execute_result",
          "data": {
            "text/plain": [
              "Index(['UpdatedAt', 'customerID', 'gender', 'SeniorCitizen', 'Partner',\n",
              "       'Dependents', 'tenure', 'PhoneService', 'MultipleLines',\n",
              "       'InternetService', 'OnlineSecurity', 'OnlineBackup', 'DeviceProtection',\n",
              "       'TechSupport', 'StreamingTV', 'StreamingMovies', 'Contract',\n",
              "       'PaperlessBilling', 'PaymentMethod', 'MonthlyCharges', 'TotalCharges',\n",
              "       'Churn'],\n",
              "      dtype='object')"
            ]
          },
          "metadata": {},
          "execution_count": 4
        }
      ]
    },
    {
      "cell_type": "code",
      "source": [
        "df_load['valid_id'] = df_load['customerID'].astype(str).str.match(r'(45\\d{9,10})')\n",
        "df_load = df_load[df_load['valid_id'] == True].drop('valid_id', axis = 1)\n",
        "print('Hasil jumlah ID Customer yang terfilter adalah',df_load['customerID'].count())"
      ],
      "metadata": {
        "colab": {
          "base_uri": "https://localhost:8080/"
        },
        "id": "Sa5D9uQyNpAV",
        "outputId": "87a055db-43b2-4ef2-94ce-a64e5a169c9b"
      },
      "execution_count": null,
      "outputs": [
        {
          "output_type": "stream",
          "name": "stdout",
          "text": [
            "Hasil jumlah ID Customer yang terfilter adalah 7006\n"
          ]
        }
      ]
    },
    {
      "cell_type": "code",
      "source": [
        "# Drop Duplicate Rows\n",
        "df_load = df_load.drop_duplicates()\n",
        "# Drop duplicate ID sorted by Periode\n",
        "df_load = df_load.sort_values('UpdatedAt', ascending=False).drop_duplicates('customerID')\n",
        "print('Hasil jumlah ID Customer yang sudah dihilangkan duplikasinya (distinct) adalah',df_load['customerID'].count())"
      ],
      "metadata": {
        "colab": {
          "base_uri": "https://localhost:8080/"
        },
        "id": "vWbGaghK6wty",
        "outputId": "57b61907-cfb2-4ae5-8e2e-62c4ce395acd"
      },
      "execution_count": null,
      "outputs": [
        {
          "output_type": "stream",
          "name": "stdout",
          "text": [
            "Hasil jumlah ID Customer yang sudah dihilangkan duplikasinya (distinct) adalah 6993\n"
          ]
        }
      ]
    },
    {
      "cell_type": "code",
      "source": [
        "print('Total missing values data dari kolom Churn', df_load['Churn'].isnull().sum())\n",
        "# Dropping all Rows with spesific column (churn)\n",
        "df_load.dropna(subset=['Churn'], inplace=True)\n",
        "print('Total Rows dan kolom Data setelah dihapus data Missing Values adalah', df_load.shape)"
      ],
      "metadata": {
        "colab": {
          "base_uri": "https://localhost:8080/"
        },
        "id": "RmVVhB-7JcRn",
        "outputId": "9c279479-1b7f-4b29-e874-d27dbed59fa4"
      },
      "execution_count": null,
      "outputs": [
        {
          "output_type": "stream",
          "name": "stdout",
          "text": [
            "Total missing values data dari kolom Churn 43\n",
            "Total Rows dan kolom Data setelah dihapus data Missing Values adalah (6950, 22)\n"
          ]
        }
      ]
    },
    {
      "cell_type": "code",
      "source": [
        "print('Status Missing Values :',df_load.isnull().values.any())\n",
        "print('\\nJumlah Missing Values masing-masing kolom, adalah:')\n",
        "print(df_load.isnull().sum().sort_values(ascending=False))\n",
        "\n",
        "# handling missing values Tenure fill with 11\n",
        "df_load['tenure'].fillna(11, inplace=True)\n",
        "\n",
        "# Handling missing values num vars (except Tenure)\n",
        "for col_name in list(['MonthlyCharges','TotalCharges']):\n",
        "    median = df_load[col_name].median()\n",
        "    df_load[col_name].fillna(median, inplace=True)\n",
        "    \n",
        "print('\\nJumlah Missing Values setelah di imputer datanya, adalah:')\n",
        "print(df_load.isnull().sum().sort_values(ascending=False))"
      ],
      "metadata": {
        "colab": {
          "base_uri": "https://localhost:8080/"
        },
        "id": "yzKJOoAFJeOm",
        "outputId": "2359a36e-d782-4a23-e95b-34c9fb1b0f87"
      },
      "execution_count": null,
      "outputs": [
        {
          "output_type": "stream",
          "name": "stdout",
          "text": [
            "Status Missing Values : True\n",
            "\n",
            "Jumlah Missing Values masing-masing kolom, adalah:\n",
            "tenure              99\n",
            "MonthlyCharges      26\n",
            "TotalCharges        15\n",
            "UpdatedAt            0\n",
            "DeviceProtection     0\n",
            "PaymentMethod        0\n",
            "PaperlessBilling     0\n",
            "Contract             0\n",
            "StreamingMovies      0\n",
            "StreamingTV          0\n",
            "TechSupport          0\n",
            "OnlineBackup         0\n",
            "customerID           0\n",
            "OnlineSecurity       0\n",
            "InternetService      0\n",
            "MultipleLines        0\n",
            "PhoneService         0\n",
            "Dependents           0\n",
            "Partner              0\n",
            "SeniorCitizen        0\n",
            "gender               0\n",
            "Churn                0\n",
            "dtype: int64\n",
            "\n",
            "Jumlah Missing Values setelah di imputer datanya, adalah:\n",
            "UpdatedAt           0\n",
            "customerID          0\n",
            "TotalCharges        0\n",
            "MonthlyCharges      0\n",
            "PaymentMethod       0\n",
            "PaperlessBilling    0\n",
            "Contract            0\n",
            "StreamingMovies     0\n",
            "StreamingTV         0\n",
            "TechSupport         0\n",
            "DeviceProtection    0\n",
            "OnlineBackup        0\n",
            "OnlineSecurity      0\n",
            "InternetService     0\n",
            "MultipleLines       0\n",
            "PhoneService        0\n",
            "tenure              0\n",
            "Dependents          0\n",
            "Partner             0\n",
            "SeniorCitizen       0\n",
            "gender              0\n",
            "Churn               0\n",
            "dtype: int64\n"
          ]
        }
      ]
    },
    {
      "cell_type": "code",
      "source": [
        "print('\\nPersebaran data sebelum ditangani Outlier: ')\n",
        "print(df_load[['tenure','MonthlyCharges','TotalCharges']].describe())\n",
        "\n",
        "# Creating Box Plot\n",
        "import matplotlib.pyplot as plt\n",
        "import seaborn as sns\n",
        "\n",
        "# Misal untuk kolom tenure\n",
        "plt.figure()\n",
        "sns.boxplot(x=df_load['tenure'])\n",
        "plt.show()\n",
        "# dan seterusnya untuk kedua kolom yang tersisa secara berurut\n",
        "\n",
        "plt.figure()\n",
        "sns.boxplot(x=df_load['MonthlyCharges'])\n",
        "plt.show()\n",
        "\n",
        "plt.figure()\n",
        "sns.boxplot(x=df_load['TotalCharges'])\n",
        "plt.show()"
      ],
      "metadata": {
        "id": "iCmStR1MRqBw",
        "colab": {
          "base_uri": "https://localhost:8080/",
          "height": 1000
        },
        "outputId": "884acc81-d238-4148-8880-55e3be39d374"
      },
      "execution_count": null,
      "outputs": [
        {
          "output_type": "stream",
          "name": "stdout",
          "text": [
            "\n",
            "Persebaran data sebelum ditangani Outlier: \n",
            "            tenure  MonthlyCharges  TotalCharges\n",
            "count  6950.000000     6950.000000   6950.000000\n",
            "mean     32.477266       65.783741   2305.083460\n",
            "std      25.188910       50.457871   2578.651143\n",
            "min       0.000000        0.000000     19.000000\n",
            "25%       9.000000       36.462500    406.975000\n",
            "50%      29.000000       70.450000   1400.850000\n",
            "75%      55.000000       89.850000   3799.837500\n",
            "max     500.000000     2311.000000  80000.000000\n"
          ]
        },
        {
          "output_type": "display_data",
          "data": {
            "text/plain": [
              "<Figure size 432x288 with 1 Axes>"
            ],
            "image/png": "[encoded data removed]"
          },
          "metadata": {
            "needs_background": "light"
          }
        },
        {
          "output_type": "display_data",
          "data": {
            "text/plain": [
              "<Figure size 432x288 with 1 Axes>"
            ],
            "image/png": "[encoded data removed]"
          },
          "metadata": {
            "needs_background": "light"
          }
        },
        {
          "output_type": "display_data",
          "data": {
            "text/plain": [
              "<Figure size 432x288 with 1 Axes>"
            ],
            "image/png": "[encoded data removed]"
          },
          "metadata": {
            "needs_background": "light"
          }
        }
      ]
    },
    {
      "cell_type": "code",
      "source": [
        "# Masukkan variable\n",
        "for col_name in list(['gender','SeniorCitizen','Partner','Dependents','PhoneService','MultipleLines','InternetService','OnlineSecurity','OnlineBackup','DeviceProtection','TechSupport','StreamingTV','StreamingMovies','Contract','PaperlessBilling','PaymentMethod','Churn']):\n",
        "    print('\\nUnique Values Count \\033[1m' + 'Before Standardized \\033[0m Variable',col_name)\n",
        "    print(df_load[col_name].value_counts())"
      ],
      "metadata": {
        "id": "_qidRg5cRqW8",
        "colab": {
          "base_uri": "https://localhost:8080/"
        },
        "outputId": "1f9662a7-4a23-471c-80e5-1e3456d747ee"
      },
      "execution_count": null,
      "outputs": [
        {
          "output_type": "stream",
          "name": "stdout",
          "text": [
            "\n",
            "Unique Values Count \u001b[1mBefore Standardized \u001b[0m Variable gender\n",
            "Male         3499\n",
            "Female       3431\n",
            "Wanita         14\n",
            "Laki-Laki       6\n",
            "Name: gender, dtype: int64\n",
            "\n",
            "Unique Values Count \u001b[1mBefore Standardized \u001b[0m Variable SeniorCitizen\n",
            "0    5822\n",
            "1    1128\n",
            "Name: SeniorCitizen, dtype: int64\n",
            "\n",
            "Unique Values Count \u001b[1mBefore Standardized \u001b[0m Variable Partner\n",
            "No     3591\n",
            "Yes    3359\n",
            "Name: Partner, dtype: int64\n",
            "\n",
            "Unique Values Count \u001b[1mBefore Standardized \u001b[0m Variable Dependents\n",
            "No     4870\n",
            "Yes    2060\n",
            "Iya      20\n",
            "Name: Dependents, dtype: int64\n",
            "\n",
            "Unique Values Count \u001b[1mBefore Standardized \u001b[0m Variable PhoneService\n",
            "Yes    6281\n",
            "No      669\n",
            "Name: PhoneService, dtype: int64\n",
            "\n",
            "Unique Values Count \u001b[1mBefore Standardized \u001b[0m Variable MultipleLines\n",
            "No                  3346\n",
            "Yes                 2935\n",
            "No phone service     669\n",
            "Name: MultipleLines, dtype: int64\n",
            "\n",
            "Unique Values Count \u001b[1mBefore Standardized \u001b[0m Variable InternetService\n",
            "Fiber optic    3057\n",
            "DSL            2388\n",
            "No             1505\n",
            "Name: InternetService, dtype: int64\n",
            "\n",
            "Unique Values Count \u001b[1mBefore Standardized \u001b[0m Variable OnlineSecurity\n",
            "No                     3454\n",
            "Yes                    1991\n",
            "No internet service    1505\n",
            "Name: OnlineSecurity, dtype: int64\n",
            "\n",
            "Unique Values Count \u001b[1mBefore Standardized \u001b[0m Variable OnlineBackup\n",
            "No                     3045\n",
            "Yes                    2400\n",
            "No internet service    1505\n",
            "Name: OnlineBackup, dtype: int64\n",
            "\n",
            "Unique Values Count \u001b[1mBefore Standardized \u001b[0m Variable DeviceProtection\n",
            "No                     3054\n",
            "Yes                    2391\n",
            "No internet service    1505\n",
            "Name: DeviceProtection, dtype: int64\n",
            "\n",
            "Unique Values Count \u001b[1mBefore Standardized \u001b[0m Variable TechSupport\n",
            "No                     3431\n",
            "Yes                    2014\n",
            "No internet service    1505\n",
            "Name: TechSupport, dtype: int64\n",
            "\n",
            "Unique Values Count \u001b[1mBefore Standardized \u001b[0m Variable StreamingTV\n",
            "No                     2774\n",
            "Yes                    2671\n",
            "No internet service    1505\n",
            "Name: StreamingTV, dtype: int64\n",
            "\n",
            "Unique Values Count \u001b[1mBefore Standardized \u001b[0m Variable StreamingMovies\n",
            "No                     2747\n",
            "Yes                    2698\n",
            "No internet service    1505\n",
            "Name: StreamingMovies, dtype: int64\n",
            "\n",
            "Unique Values Count \u001b[1mBefore Standardized \u001b[0m Variable Contract\n",
            "Month-to-month    3823\n",
            "Two year          1670\n",
            "One year          1457\n",
            "Name: Contract, dtype: int64\n",
            "\n",
            "Unique Values Count \u001b[1mBefore Standardized \u001b[0m Variable PaperlessBilling\n",
            "Yes    4114\n",
            "No     2836\n",
            "Name: PaperlessBilling, dtype: int64\n",
            "\n",
            "Unique Values Count \u001b[1mBefore Standardized \u001b[0m Variable PaymentMethod\n",
            "Electronic check             2337\n",
            "Mailed check                 1594\n",
            "Bank transfer (automatic)    1519\n",
            "Credit card (automatic)      1500\n",
            "Name: PaymentMethod, dtype: int64\n",
            "\n",
            "Unique Values Count \u001b[1mBefore Standardized \u001b[0m Variable Churn\n",
            "No       5114\n",
            "Yes      1827\n",
            "Churn       9\n",
            "Name: Churn, dtype: int64\n"
          ]
        }
      ]
    },
    {
      "cell_type": "code",
      "source": [
        "df_load = df_load.replace(['Wanita','Laki-Laki','Churn','Iya'],['Female','Male','Yes','Yes'])\n",
        "\n",
        "# Masukkan variable\n",
        "for col_name in list(['gender','Dependents','Churn']):\n",
        "    print('\\nUnique Values Count \\033[1m' + 'After Standardized \\033[0mVariable',col_name)\n",
        "    print(df_load[col_name].value_counts())"
      ],
      "metadata": {
        "id": "LfGdOe_HRqj5",
        "colab": {
          "base_uri": "https://localhost:8080/"
        },
        "outputId": "f1824f79-4207-4199-a0c6-5d7cc540a568"
      },
      "execution_count": null,
      "outputs": [
        {
          "output_type": "stream",
          "name": "stdout",
          "text": [
            "\n",
            "Unique Values Count \u001b[1mAfter Standardized \u001b[0mVariable gender\n",
            "Male      3505\n",
            "Female    3445\n",
            "Name: gender, dtype: int64\n",
            "\n",
            "Unique Values Count \u001b[1mAfter Standardized \u001b[0mVariable Dependents\n",
            "No     4870\n",
            "Yes    2080\n",
            "Name: Dependents, dtype: int64\n",
            "\n",
            "Unique Values Count \u001b[1mAfter Standardized \u001b[0mVariable Churn\n",
            "No     5114\n",
            "Yes    1836\n",
            "Name: Churn, dtype: int64\n"
          ]
        }
      ]
    },
    {
      "cell_type": "code",
      "source": [],
      "metadata": {
        "id": "W-pE_aNYRqyU"
      },
      "execution_count": null,
      "outputs": []
    }
  ],
  "metadata": {
    "kernelspec": {
      "display_name": "Python 3",
      "language": "python",
      "name": "python3"
    },
    "language_info": {
      "codemirror_mode": {
        "name": "ipython",
        "version": 3
      },
      "file_extension": ".py",
      "mimetype": "text/x-python",
      "name": "python",
      "nbconvert_exporter": "python",
      "pygments_lexer": "ipython3",
      "version": "3.8.5"
    },
    "colab": {
      "provenance": []
    },
    "accelerator": "GPU",
    "gpuClass": "standard"
  },
  "nbformat": 4,
  "nbformat_minor": 0
}