{
 "cells": [
  {
   "cell_type": "markdown",
   "metadata": {},
   "source": [
    "# Data Science in Telco"
   ]
  },
  {
   "cell_type": "markdown",
   "metadata": {},
   "source": [
    "Library yang Digunakan\n",
    "Pada analisis kali ini, akan digunakan beberapa package yang membantu kita dalam melakukan analisis data.\n",
    "\n",
    "1. Pandas\n",
    "\n",
    "Pandas (Python for Data Analysis) adalah library Python yang fokus untuk proses analisis data seperti manipulasi data, persiapan data, dan pembersihan data.\n",
    "\n",
    "read_csv() digunakan untuk membaca file csv\n",
    "str.match() digunakan untuk mencocokan dengan karakter tertentu\n",
    "drop() digunakan untuk menghapus\n",
    "count() digunakan untuk menghitung masing-masing variable\n",
    "drop_duplicates() digunakan untuk menghapus data duplicate rows\n",
    "fillna() digunakan untuk mengisi dengan nilai tertentu\n",
    "quantile() digunakan untuk melihat quantile ke tertentu\n",
    "mask() mengganti nilai tertentu jika kondisi memenuhi\n",
    "astype() mengubah tipe data\n",
    "value_counts() digunakan untuk menghitung unik dari kolom\n",
    "sort_values() digunakan untuk sort values\n",
    "isnull() digunakan untuk mendeteksi missing values\n",
    "dropna() digunakan untuk menghapus missing values\n",
    "replace() digunakan untuk mengganti nilai\n",
    "\n",
    "2. Matplotlib\n",
    "\n",
    "Matplotlib adalah library Python yang fokus pada visualisasi data seperti membuat plot grafik. Matplotlib dapat digunakan dalam skrip Python, Python dan IPython shell, server aplikasi web, dan beberapa toolkit graphical user interface (GUI) lainnya.\n",
    "\n",
    "figure() digunakan untuk membuat figure gambar baru\n",
    "\n",
    "3. Seaborn\n",
    "\n",
    "Seaborn membangun di atas Matplotlib dan memperkenalkan tipe plot tambahan. Ini juga membuat plot Matplotlib tradisional Anda terlihat sedikit lebih cantik.\n",
    "\n",
    "box_plot() digunakan untuk membuat box plot"
   ]
  },
  {
   "cell_type": "code",
   "execution_count": null,
   "metadata": {},
   "outputs": [],
   "source": []
  }
 ],
 "metadata": {
  "kernelspec": {
   "display_name": "Python 3",
   "language": "python",
   "name": "python3"
  },
  "language_info": {
   "codemirror_mode": {
    "name": "ipython",
    "version": 3
   },
   "file_extension": ".py",
   "mimetype": "text/x-python",
   "name": "python",
   "nbconvert_exporter": "python",
   "pygments_lexer": "ipython3",
   "version": "3.8.5"
  }
 },
 "nbformat": 4,
 "nbformat_minor": 4
}
